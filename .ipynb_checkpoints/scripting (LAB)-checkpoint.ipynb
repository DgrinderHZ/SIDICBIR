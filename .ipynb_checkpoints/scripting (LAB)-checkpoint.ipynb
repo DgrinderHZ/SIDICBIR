{
 "cells": [
  {
   "cell_type": "code",
   "execution_count": 2,
   "metadata": {},
   "outputs": [],
   "source": [
    "import cv2\n",
    "from PIL import Image, ImageTk"
   ]
  },
  {
   "cell_type": "markdown",
   "metadata": {},
   "source": [
    "# Use this resizing to use small images "
   ]
  },
  {
   "cell_type": "code",
   "execution_count": 2,
   "metadata": {},
   "outputs": [
    {
     "name": "stdout",
     "output_type": "stream",
     "text": [
      "(360, 360)\n",
      "(1100, 1100)\n"
     ]
    }
   ],
   "source": [
    "im = Image.open(\"logo.jpg\")\n",
    "print(im.size)\n",
    "resized = im.resize((1100, 1100), Image.ANTIALIAS)\n",
    "print(resized.size)\n",
    "#print(list(resized.getdata()))\n",
    "resized.show()"
   ]
  },
  {
   "cell_type": "code",
   "execution_count": 3,
   "metadata": {},
   "outputs": [
    {
     "name": "stdout",
     "output_type": "stream",
     "text": [
      "(360, 360, 3)\n",
      "(24, 24, 3)\n"
     ]
    },
    {
     "data": {
      "text/plain": [
       "-1"
      ]
     },
     "execution_count": 3,
     "metadata": {},
     "output_type": "execute_result"
    }
   ],
   "source": [
    "im = cv2.imread(\"logo.jpg\")\n",
    "print(im.shape)\n",
    "rs = cv2.resize(im, (24,24))\n",
    "print(rs.shape)\n",
    "cv2.imshow('original',im)\n",
    "cv2.waitKey(0)\n",
    "cv2.imshow('resized',rs)\n",
    "cv2.waitKey(0)"
   ]
  },
  {
   "cell_type": "code",
   "execution_count": 67,
   "metadata": {},
   "outputs": [
    {
     "name": "stdout",
     "output_type": "stream",
     "text": [
      "[[[ 2.  0.]\n",
      "  [ 0.  3.]]\n",
      "\n",
      " [[ 3.  0.]\n",
      "  [ 1. 55.]]]\n",
      "[ 2.  0.  0.  3.  3.  0.  1. 55.]\n",
      "[[[ 2.  0.]\n",
      "  [ 0.  3.]]\n",
      "\n",
      " [[ 3.  0.]\n",
      "  [ 1. 55.]]]\n"
     ]
    },
    {
     "data": {
      "text/plain": [
       "array([ 2.,  0.,  0.,  3.,  3.,  0.,  1., 55.], dtype=float32)"
      ]
     },
     "execution_count": 67,
     "metadata": {},
     "output_type": "execute_result"
    }
   ],
   "source": [
    "import numpy as np\n",
    "def getHist(imgPix):\n",
    "    \"\"\"\n",
    "    Return bgr Histograms\n",
    "    \"\"\"\n",
    "    imgPix = np.array(imgPix)\n",
    "    rbgHist= cv2.calcHist(images=[imgPix], \n",
    "                        channels=[0, 1, 2], \n",
    "                        mask=None, \n",
    "                        histSize=[2, 2, 2], \n",
    "                        ranges=[0, 256, 0, 256, 0, 256])\n",
    "\n",
    "    return rbgHist\n",
    "rs = cv2.resize(im, (8,8))\n",
    "h = getHist(rs)\n",
    "v = h.flatten()\n",
    "print(h)\n",
    "print(v)\n",
    "print(np.reshape(v, (2,2,2)))\n",
    "np.array(list(map(np.float32, v)))\n"
   ]
  },
  {
   "cell_type": "code",
   "execution_count": 125,
   "metadata": {},
   "outputs": [],
   "source": [
    "from math import sqrt\n",
    "def getAvgs(imgPix):\n",
    "        \"\"\"\n",
    "        la moyenne, moment d’ordre un.\n",
    "        :return: (avgR, avgG, avgB)\n",
    "        \"\"\"\n",
    "        imgPix = np.array(imgPix)\n",
    "        height, width, channels = imgPix.shape\n",
    "        sz = height*width\n",
    "        t = [0. for _ in range(3)]\n",
    "        for i in range(len(imgPix)):\n",
    "            for j in range(len(imgPix[0])):\n",
    "                t[0] += imgPix[i][j][0]\n",
    "                t[1] += imgPix[i][j][1]\n",
    "                t[2] += imgPix[i][j][2]\n",
    "        t = [y/sz for y in t]\n",
    "        print('Mean:', imgPix.shape, imgPix.size)\n",
    "        print(t, \"equals\")\n",
    "        \n",
    "        return list(imgPix.mean(axis=1).mean(axis=0))\n",
    "    \n",
    "def getSTDs(imgPix):\n",
    "        \"\"\"\n",
    "        L'écart type, moment d’ordre deux.\n",
    "        :return:\n",
    "        \"\"\"\n",
    "        imgPix = np.array(imgPix)\n",
    "        height, width, channels = imgPix.shape\n",
    "        sz = height*width\n",
    "        \n",
    "        mean = getAvgs(imgPix)\n",
    "        v = [0. for _ in range(3)]\n",
    "        for i in range(len(imgPix)):\n",
    "            for j in range(len(imgPix[0])):\n",
    "                v[0] += sqrt( (imgPix[i][j][0] - mean[0])**2 / sz)\n",
    "                v[1] += sqrt( (imgPix[i][j][1] - mean[1])**2 / sz)\n",
    "                v[2] += sqrt( (imgPix[i][j][2] - mean[2])**2 / sz)\n",
    "        print('STD:')\n",
    "        print(v, \"equals\")\n",
    "        return list(imgPix.std(axis=1).std(axis=0))\n",
    "    \n",
    "def getMoments(imgPix):\n",
    "        \"\"\"\n",
    "        moment d’ordre trois.\n",
    "        :return:\n",
    "        \"\"\"\n",
    "        imgPix = np.array(imgPix)\n",
    "        mean = getAvgs(imgPix)\n",
    "        v = [0. for _ in range(3)]\n",
    "        for i in range(len(imgPix)):\n",
    "            for j in range(len(imgPix[0])):\n",
    "                v[0] += (imgPix[i][j][0] - mean[0])**3\n",
    "                v[1] += (imgPix[i][j][1] - mean[1])**3\n",
    "                v[2] += (imgPix[i][j][2] - mean[2])**3\n",
    "        v = [ abs(y/(len(imgPix)*len(imgPix[0])))**(1/3) for y in v]\n",
    "        features = []\n",
    "        #features.extend(mean)\n",
    "        #features.extend(Descriptor.getSTDs(imgPix))\n",
    "        features.extend(v)\n",
    "        return features"
   ]
  },
  {
   "cell_type": "code",
   "execution_count": 124,
   "metadata": {},
   "outputs": [
    {
     "name": "stdout",
     "output_type": "stream",
     "text": [
      "Mean: (8, 8, 3) 192\n",
      "[229.34375, 234.96875, 228.71875] equals\n",
      "[229.34375, 234.96875, 228.71875]\n"
     ]
    }
   ],
   "source": [
    "#print(getMoments(rs))\n",
    "print(getAvgs(rs))"
   ]
  },
  {
   "cell_type": "code",
   "execution_count": 119,
   "metadata": {},
   "outputs": [
    {
     "name": "stdout",
     "output_type": "stream",
     "text": [
      "Mean: (8, 8, 3)\n",
      "[229.34375, 234.96875, 228.71875] equals\n",
      "STD:\n",
      "[15.0, 8.0, 16.0] equals\n",
      "[28.418914482316076, 25.98122956430411, 37.25789081113159]\n"
     ]
    }
   ],
   "source": [
    "#print(getMoments(rs))\n",
    "print(getSTDs(rs))"
   ]
  },
  {
   "cell_type": "code",
   "execution_count": 80,
   "metadata": {},
   "outputs": [
    {
     "name": "stdout",
     "output_type": "stream",
     "text": [
      "Help on built-in function array in module numpy:\n",
      "\n",
      "array(...)\n",
      "    array(object, dtype=None, copy=True, order='K', subok=False, ndmin=0)\n",
      "    \n",
      "    Create an array.\n",
      "    \n",
      "    Parameters\n",
      "    ----------\n",
      "    object : array_like\n",
      "        An array, any object exposing the array interface, an object whose\n",
      "        __array__ method returns an array, or any (nested) sequence.\n",
      "    dtype : data-type, optional\n",
      "        The desired data-type for the array.  If not given, then the type will\n",
      "        be determined as the minimum type required to hold the objects in the\n",
      "        sequence.  This argument can only be used to 'upcast' the array.  For\n",
      "        downcasting, use the .astype(t) method.\n",
      "    copy : bool, optional\n",
      "        If true (default), then the object is copied.  Otherwise, a copy will\n",
      "        only be made if __array__ returns a copy, if obj is a nested sequence,\n",
      "        or if a copy is needed to satisfy any of the other requirements\n",
      "        (`dtype`, `order`, etc.).\n",
      "    order : {'K', 'A', 'C', 'F'}, optional\n",
      "        Specify the memory layout of the array. If object is not an array, the\n",
      "        newly created array will be in C order (row major) unless 'F' is\n",
      "        specified, in which case it will be in Fortran order (column major).\n",
      "        If object is an array the following holds.\n",
      "    \n",
      "        ===== ========= ===================================================\n",
      "        order  no copy                     copy=True\n",
      "        ===== ========= ===================================================\n",
      "        'K'   unchanged F & C order preserved, otherwise most similar order\n",
      "        'A'   unchanged F order if input is F and not C, otherwise C order\n",
      "        'C'   C order   C order\n",
      "        'F'   F order   F order\n",
      "        ===== ========= ===================================================\n",
      "    \n",
      "        When ``copy=False`` and a copy is made for other reasons, the result is\n",
      "        the same as if ``copy=True``, with some exceptions for `A`, see the\n",
      "        Notes section. The default order is 'K'.\n",
      "    subok : bool, optional\n",
      "        If True, then sub-classes will be passed-through, otherwise\n",
      "        the returned array will be forced to be a base-class array (default).\n",
      "    ndmin : int, optional\n",
      "        Specifies the minimum number of dimensions that the resulting\n",
      "        array should have.  Ones will be pre-pended to the shape as\n",
      "        needed to meet this requirement.\n",
      "    \n",
      "    Returns\n",
      "    -------\n",
      "    out : ndarray\n",
      "        An array object satisfying the specified requirements.\n",
      "    \n",
      "    See Also\n",
      "    --------\n",
      "    empty_like : Return an empty array with shape and type of input.\n",
      "    ones_like : Return an array of ones with shape and type of input.\n",
      "    zeros_like : Return an array of zeros with shape and type of input.\n",
      "    full_like : Return a new array with shape of input filled with value.\n",
      "    empty : Return a new uninitialized array.\n",
      "    ones : Return a new array setting values to one.\n",
      "    zeros : Return a new array setting values to zero.\n",
      "    full : Return a new array of given shape filled with value.\n",
      "    \n",
      "    \n",
      "    Notes\n",
      "    -----\n",
      "    When order is 'A' and `object` is an array in neither 'C' nor 'F' order,\n",
      "    and a copy is forced by a change in dtype, then the order of the result is\n",
      "    not necessarily 'C' as expected. This is likely a bug.\n",
      "    \n",
      "    Examples\n",
      "    --------\n",
      "    >>> np.array([1, 2, 3])\n",
      "    array([1, 2, 3])\n",
      "    \n",
      "    Upcasting:\n",
      "    \n",
      "    >>> np.array([1, 2, 3.0])\n",
      "    array([ 1.,  2.,  3.])\n",
      "    \n",
      "    More than one dimension:\n",
      "    \n",
      "    >>> np.array([[1, 2], [3, 4]])\n",
      "    array([[1, 2],\n",
      "           [3, 4]])\n",
      "    \n",
      "    Minimum dimensions 2:\n",
      "    \n",
      "    >>> np.array([1, 2, 3], ndmin=2)\n",
      "    array([[1, 2, 3]])\n",
      "    \n",
      "    Type provided:\n",
      "    \n",
      "    >>> np.array([1, 2, 3], dtype=complex)\n",
      "    array([ 1.+0.j,  2.+0.j,  3.+0.j])\n",
      "    \n",
      "    Data-type consisting of more than one element:\n",
      "    \n",
      "    >>> x = np.array([(1,2),(3,4)],dtype=[('a','<i4'),('b','<i4')])\n",
      "    >>> x['a']\n",
      "    array([1, 3])\n",
      "    \n",
      "    Creating an array from sub-classes:\n",
      "    \n",
      "    >>> np.array(np.mat('1 2; 3 4'))\n",
      "    array([[1, 2],\n",
      "           [3, 4]])\n",
      "    \n",
      "    >>> np.array(np.mat('1 2; 3 4'), subok=True)\n",
      "    matrix([[1, 2],\n",
      "            [3, 4]])\n",
      "\n"
     ]
    }
   ],
   "source": [
    "help(np.array)"
   ]
  },
  {
   "cell_type": "code",
   "execution_count": 22,
   "metadata": {},
   "outputs": [
    {
     "data": {
      "text/plain": [
       "4913"
      ]
     },
     "execution_count": 22,
     "metadata": {},
     "output_type": "execute_result"
    }
   ],
   "source": [
    "17*17*17"
   ]
  },
  {
   "cell_type": "code",
   "execution_count": 23,
   "metadata": {},
   "outputs": [
    {
     "data": {
      "text/plain": [
       "676"
      ]
     },
     "execution_count": 23,
     "metadata": {},
     "output_type": "execute_result"
    }
   ],
   "source": [
    "26*26"
   ]
  },
  {
   "cell_type": "code",
   "execution_count": null,
   "metadata": {},
   "outputs": [],
   "source": [
    "#signature = open(index, 'r')\n",
    "            '''for line in signature:\n",
    "                line = line.replace(\"[\", \"\").replace(\"]\", \"\").replace(\"(\", \"\").replace(\")\", \"\").split(\",\")\n",
    "                filename = line[0]\n",
    "                avgs = [float(x) for x in line[1:]]\n",
    "                # TODO: Add to M tree\n",
    "                self.addObjectsToTree([filename, avgs])\n",
    "                print(\".\", end= \" \")'''"
   ]
  }
 ],
 "metadata": {
  "kernelspec": {
   "display_name": "Python 3",
   "language": "python",
   "name": "python3"
  },
  "language_info": {
   "codemirror_mode": {
    "name": "ipython",
    "version": 3
   },
   "file_extension": ".py",
   "mimetype": "text/x-python",
   "name": "python",
   "nbconvert_exporter": "python",
   "pygments_lexer": "ipython3",
   "version": "3.7.4"
  }
 },
 "nbformat": 4,
 "nbformat_minor": 4
}
