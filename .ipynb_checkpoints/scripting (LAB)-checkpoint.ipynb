{
 "cells": [
  {
   "cell_type": "code",
   "execution_count": 2,
   "metadata": {},
   "outputs": [],
   "source": [
    "import cv2\n",
    "from PIL import Image, ImageTk"
   ]
  },
  {
   "cell_type": "markdown",
   "metadata": {},
   "source": [
    "# Use this resizing to use small images "
   ]
  },
  {
   "cell_type": "code",
   "execution_count": 2,
   "metadata": {},
   "outputs": [
    {
     "name": "stdout",
     "output_type": "stream",
     "text": [
      "(360, 360)\n",
      "(1100, 1100)\n"
     ]
    }
   ],
   "source": [
    "im = Image.open(\"logo.jpg\")\n",
    "print(im.size)\n",
    "resized = im.resize((1100, 1100), Image.ANTIALIAS)\n",
    "print(resized.size)\n",
    "#print(list(resized.getdata()))\n",
    "resized.show()"
   ]
  },
  {
   "cell_type": "code",
   "execution_count": 3,
   "metadata": {},
   "outputs": [
    {
     "name": "stdout",
     "output_type": "stream",
     "text": [
      "(360, 360, 3)\n",
      "(24, 24, 3)\n"
     ]
    },
    {
     "data": {
      "text/plain": [
       "-1"
      ]
     },
     "execution_count": 3,
     "metadata": {},
     "output_type": "execute_result"
    }
   ],
   "source": [
    "im = cv2.imread(\"logo.jpg\")\n",
    "print(im.shape)\n",
    "rs = cv2.resize(im, (24,24))\n",
    "print(rs.shape)\n",
    "cv2.imshow('original',im)\n",
    "cv2.waitKey(0)\n",
    "cv2.imshow('resized',rs)\n",
    "cv2.waitKey(0)"
   ]
  },
  {
   "cell_type": "code",
   "execution_count": 29,
   "metadata": {},
   "outputs": [
    {
     "name": "stdout",
     "output_type": "stream",
     "text": [
      "[[[ 2.  0.]\n",
      "  [ 0.  3.]]\n",
      "\n",
      " [[ 3.  0.]\n",
      "  [ 1. 55.]]]\n",
      "[ 2.  0.  0.  3.  3.  0.  1. 55.]\n",
      "[[[ 2.  0.]\n",
      "  [ 0.  3.]]\n",
      "\n",
      " [[ 3.  0.]\n",
      "  [ 1. 55.]]]\n"
     ]
    },
    {
     "data": {
      "text/plain": [
       "[2.0, 0.0, 0.0, 3.0, 3.0, 0.0, 1.0, 55.0]"
      ]
     },
     "execution_count": 29,
     "metadata": {},
     "output_type": "execute_result"
    }
   ],
   "source": [
    "import numpy as np\n",
    "def getHist(imgPix):\n",
    "    \"\"\"\n",
    "    Return bgr Histograms\n",
    "    \"\"\"\n",
    "    imgPix = np.array(imgPix)\n",
    "    rbgHist= cv2.calcHist(images=[imgPix], \n",
    "                        channels=[0, 1, 2], \n",
    "                        mask=None, \n",
    "                        histSize=[2, 2, 2], \n",
    "                        ranges=[0, 256, 0, 256, 0, 256])\n",
    "\n",
    "    return rbgHist\n",
    "rs = cv2.resize(im, (8,8))\n",
    "h = getHist(rs)\n",
    "v = h.flatten()\n",
    "print(h)\n",
    "print(v)\n",
    "print(np.reshape(v, (2,2,2)))\n",
    "a = np.array(list(map(np.float32, v)))\n",
    "cv2.convert"
   ]
  },
  {
   "cell_type": "code",
   "execution_count": 26,
   "metadata": {},
   "outputs": [
    {
     "name": "stdout",
     "output_type": "stream",
     "text": [
      "Help on built-in function imshow:\n",
      "\n",
      "imshow(...)\n",
      "    imshow(winname, mat) -> None\n",
      "    .   @brief Displays an image in the specified window.\n",
      "    .   \n",
      "    .   The function imshow displays an image in the specified window. If the window was created with the\n",
      "    .   cv::WINDOW_AUTOSIZE flag, the image is shown with its original size, however it is still limited by the screen resolution.\n",
      "    .   Otherwise, the image is scaled to fit the window. The function may scale the image, depending on its depth:\n",
      "    .   \n",
      "    .   -   If the image is 8-bit unsigned, it is displayed as is.\n",
      "    .   -   If the image is 16-bit unsigned or 32-bit integer, the pixels are divided by 256. That is, the\n",
      "    .       value range [0,255\\*256] is mapped to [0,255].\n",
      "    .   -   If the image is 32-bit or 64-bit floating-point, the pixel values are multiplied by 255. That is, the\n",
      "    .       value range [0,1] is mapped to [0,255].\n",
      "    .   \n",
      "    .   If window was created with OpenGL support, cv::imshow also support ogl::Buffer , ogl::Texture2D and\n",
      "    .   cuda::GpuMat as input.\n",
      "    .   \n",
      "    .   If the window was not created before this function, it is assumed creating a window with cv::WINDOW_AUTOSIZE.\n",
      "    .   \n",
      "    .   If you need to show an image that is bigger than the screen resolution, you will need to call namedWindow(\"\", WINDOW_NORMAL) before the imshow.\n",
      "    .   \n",
      "    .   @note This function should be followed by cv::waitKey function which displays the image for specified\n",
      "    .   milliseconds. Otherwise, it won't display the image. For example, **waitKey(0)** will display the window\n",
      "    .   infinitely until any keypress (it is suitable for image display). **waitKey(25)** will display a frame\n",
      "    .   for 25 ms, after which display will be automatically closed. (If you put it in a loop to read\n",
      "    .   videos, it will display the video frame-by-frame)\n",
      "    .   \n",
      "    .   @note\n",
      "    .   \n",
      "    .   [__Windows Backend Only__] Pressing Ctrl+C will copy the image to the clipboard.\n",
      "    .   \n",
      "    .   [__Windows Backend Only__] Pressing Ctrl+S will show a dialog to save the image.\n",
      "    .   \n",
      "    .   @param winname Name of the window.\n",
      "    .   @param mat Image to be shown.\n",
      "\n"
     ]
    }
   ],
   "source": [
    "help(cv2.imshow)"
   ]
  },
  {
   "cell_type": "code",
   "execution_count": 22,
   "metadata": {},
   "outputs": [
    {
     "data": {
      "text/plain": [
       "4913"
      ]
     },
     "execution_count": 22,
     "metadata": {},
     "output_type": "execute_result"
    }
   ],
   "source": [
    "17*17*17"
   ]
  },
  {
   "cell_type": "code",
   "execution_count": 23,
   "metadata": {},
   "outputs": [
    {
     "data": {
      "text/plain": [
       "676"
      ]
     },
     "execution_count": 23,
     "metadata": {},
     "output_type": "execute_result"
    }
   ],
   "source": [
    "26*26"
   ]
  },
  {
   "cell_type": "code",
   "execution_count": null,
   "metadata": {},
   "outputs": [],
   "source": [
    "#signature = open(index, 'r')\n",
    "            '''for line in signature:\n",
    "                line = line.replace(\"[\", \"\").replace(\"]\", \"\").replace(\"(\", \"\").replace(\")\", \"\").split(\",\")\n",
    "                filename = line[0]\n",
    "                avgs = [float(x) for x in line[1:]]\n",
    "                # TODO: Add to M tree\n",
    "                self.addObjectsToTree([filename, avgs])\n",
    "                print(\".\", end= \" \")'''"
   ]
  }
 ],
 "metadata": {
  "kernelspec": {
   "display_name": "Python 3",
   "language": "python",
   "name": "python3"
  },
  "language_info": {
   "codemirror_mode": {
    "name": "ipython",
    "version": 3
   },
   "file_extension": ".py",
   "mimetype": "text/x-python",
   "name": "python",
   "nbconvert_exporter": "python",
   "pygments_lexer": "ipython3",
   "version": "3.7.4"
  }
 },
 "nbformat": 4,
 "nbformat_minor": 4
}
