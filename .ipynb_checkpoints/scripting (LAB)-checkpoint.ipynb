{
 "cells": [
  {
   "cell_type": "code",
   "execution_count": 2,
   "metadata": {},
   "outputs": [],
   "source": [
    "import cv2\n",
    "from PIL import Image, ImageTk\n",
    "from math import sqrt\n",
    "import math \n",
    "import numpy as np"
   ]
  },
  {
   "cell_type": "markdown",
   "metadata": {},
   "source": [
    "# Use this resizing to use small images "
   ]
  },
  {
   "cell_type": "code",
   "execution_count": 2,
   "metadata": {},
   "outputs": [
    {
     "name": "stdout",
     "output_type": "stream",
     "text": [
      "(360, 360)\n",
      "(1100, 1100)\n"
     ]
    }
   ],
   "source": [
    "im = Image.open(\"logo.jpg\")\n",
    "print(im.size)\n",
    "resized = im.resize((1100, 1100), Image.ANTIALIAS)\n",
    "print(resized.size)\n",
    "#print(list(resized.getdata()))\n",
    "resized.show()"
   ]
  },
  {
   "cell_type": "code",
   "execution_count": 3,
   "metadata": {},
   "outputs": [
    {
     "name": "stdout",
     "output_type": "stream",
     "text": [
      "(360, 360, 3)\n",
      "(24, 24, 3)\n"
     ]
    },
    {
     "data": {
      "text/plain": [
       "-1"
      ]
     },
     "execution_count": 3,
     "metadata": {},
     "output_type": "execute_result"
    }
   ],
   "source": [
    "im = cv2.imread(\"logo.jpg\")\n",
    "print(im.shape)\n",
    "rs = cv2.resize(im, (24,24))\n",
    "print(rs.shape)\n",
    "cv2.imshow('original',im)\n",
    "cv2.waitKey(0)\n",
    "cv2.imshow('resized',rs)\n",
    "cv2.waitKey(0)"
   ]
  },
  {
   "cell_type": "code",
   "execution_count": 4,
   "metadata": {},
   "outputs": [
    {
     "name": "stdout",
     "output_type": "stream",
     "text": [
      "[[[ 12.   0.]\n",
      "  [  1.  15.]]\n",
      "\n",
      " [[ 39.   0.]\n",
      "  [  6. 503.]]]\n",
      "[ 12.   0.   1.  15.  39.   0.   6. 503.]\n",
      "[[[ 12.   0.]\n",
      "  [  1.  15.]]\n",
      "\n",
      " [[ 39.   0.]\n",
      "  [  6. 503.]]]\n"
     ]
    },
    {
     "data": {
      "text/plain": [
       "array([ 12.,   0.,   1.,  15.,  39.,   0.,   6., 503.], dtype=float32)"
      ]
     },
     "execution_count": 4,
     "metadata": {},
     "output_type": "execute_result"
    }
   ],
   "source": [
    "\n",
    "def getHist(imgPix):\n",
    "    \"\"\"\n",
    "    Return bgr Histograms\n",
    "    \"\"\"\n",
    "    imgPix = np.array(imgPix)\n",
    "    rbgHist= cv2.calcHist(images=[imgPix], \n",
    "                        channels=[0, 1, 2], \n",
    "                        mask=None, \n",
    "                        histSize=[2, 2, 2], \n",
    "                        ranges=[0, 256, 0, 256, 0, 256])\n",
    "\n",
    "    return rbgHist\n",
    "rs = cv2.resize(im, (24,24))\n",
    "h = getHist(rs)\n",
    "v = h.flatten()\n",
    "print(h)\n",
    "print(v)\n",
    "print(np.reshape(v, (2,2,2)))\n",
    "np.array(list(map(np.float32, v)))\n"
   ]
  },
  {
   "cell_type": "markdown",
   "metadata": {},
   "source": [
    "# Color Descriptors"
   ]
  },
  {
   "cell_type": "code",
   "execution_count": 5,
   "metadata": {},
   "outputs": [],
   "source": [
    "\n",
    "def getAvgs(imgPix):\n",
    "        \"\"\"\n",
    "        la moyenne, moment d’ordre un.\n",
    "        :return: (avgR, avgG, avgB)\n",
    "        \"\"\"\n",
    "        imgPix = np.array(imgPix)\n",
    "        height, width, channels = imgPix.shape\n",
    "        sz = height*width\n",
    "        t = [0. for _ in range(3)]\n",
    "        for i in range(len(imgPix)):\n",
    "            for j in range(len(imgPix[0])):\n",
    "                t[0] += imgPix[i][j][0]\n",
    "                t[1] += imgPix[i][j][1]\n",
    "                t[2] += imgPix[i][j][2]\n",
    "        t = [y/sz for y in t]\n",
    "        print('Mean:', imgPix.shape, imgPix.size)\n",
    "        print(t, \"equals\")\n",
    "        \n",
    "        return list(imgPix.mean(axis=1).mean(axis=0))\n",
    "    \n",
    "def getSTDs(imgPix):\n",
    "        \"\"\"\n",
    "        L'écart type, moment d’ordre deux.\n",
    "        :return:\n",
    "        \"\"\"\n",
    "        imgPix = np.array(imgPix)\n",
    "        height, width, channels = imgPix.shape\n",
    "        sz = height*width\n",
    "        \n",
    "        mean = getAvgs(imgPix)\n",
    "        v = [0. for _ in range(3)]\n",
    "        for i in range(len(imgPix)):\n",
    "            for j in range(len(imgPix[0])):\n",
    "                v[0] += (imgPix[i][j][0] - mean[0])**2\n",
    "                v[1] += (imgPix[i][j][1] - mean[1])**2\n",
    "                v[2] += (imgPix[i][j][2] - mean[2])**2\n",
    "        v = [sqrt(y/sz) for y in v]\n",
    "        print('STD:')\n",
    "        print(v, \"equals\")\n",
    "        return list(imgPix.std(axis=1).std(axis=0))\n",
    "    \n",
    "def getMoments(imgPix):\n",
    "        \"\"\"\n",
    "        moment d’ordre trois.\n",
    "        :return:\n",
    "        \"\"\"\n",
    "        imgPix = np.array(imgPix)\n",
    "        height, width, channels = imgPix.shape\n",
    "        sz = height*width\n",
    "        \n",
    "        mean = getAvgs(imgPix)\n",
    "        v = [0. for _ in range(3)]\n",
    "        for i in range(len(imgPix)):\n",
    "            for j in range(len(imgPix[0])):\n",
    "                v[0] += (imgPix[i][j][0] - mean[0])**3\n",
    "                v[1] += (imgPix[i][j][1] - mean[1])**3\n",
    "                v[2] += (imgPix[i][j][2] - mean[2])**3\n",
    "        v = [ abs((y/sz))**(1/3) for y in v]\n",
    "        features = []\n",
    "        features.extend(mean)\n",
    "        features.extend(getSTDs(imgPix))\n",
    "        features.extend(v)\n",
    "        return features"
   ]
  },
  {
   "cell_type": "code",
   "execution_count": 154,
   "metadata": {},
   "outputs": [
    {
     "name": "stdout",
     "output_type": "stream",
     "text": [
      "Mean: (24, 24, 3) 1728\n",
      "[235.69618055555554, 238.15104166666666, 229.22048611111111] equals\n",
      "[235.69618055555551, 238.1510416666666, 229.22048611111111]\n"
     ]
    }
   ],
   "source": [
    "print(getAvgs(rs))"
   ]
  },
  {
   "cell_type": "code",
   "execution_count": 155,
   "metadata": {},
   "outputs": [
    {
     "name": "stdout",
     "output_type": "stream",
     "text": [
      "Mean: (24, 24, 3) 1728\n",
      "[235.69618055555554, 238.15104166666666, 229.22048611111111] equals\n",
      "STD:\n",
      "[45.77348045746132, 42.14232374114895, 66.36832983674661] equals\n",
      "[25.119248212652426, 25.890382902339375, 42.49990600721883]\n"
     ]
    }
   ],
   "source": [
    "print(getSTDs(rs))"
   ]
  },
  {
   "cell_type": "code",
   "execution_count": 156,
   "metadata": {},
   "outputs": [
    {
     "name": "stdout",
     "output_type": "stream",
     "text": [
      "Mean: (24, 24, 3) 1728\n",
      "[235.69618055555554, 238.15104166666666, 229.22048611111111] equals\n",
      "Mean: (24, 24, 3) 1728\n",
      "[235.69618055555554, 238.15104166666666, 229.22048611111111] equals\n",
      "STD:\n",
      "[45.77348045746132, 42.14232374114895, 66.36832983674661] equals\n",
      "[235.69618055555551, 238.1510416666666, 229.22048611111111, 25.119248212652426, 25.890382902339375, 42.49990600721883, 61.81698750779069, 56.532930354293505, 90.90555695466534]\n"
     ]
    }
   ],
   "source": [
    "print(getMoments(rs))"
   ]
  },
  {
   "cell_type": "markdown",
   "metadata": {},
   "source": [
    "# Texture "
   ]
  },
  {
   "cell_type": "code",
   "execution_count": null,
   "metadata": {},
   "outputs": [],
   "source": [
    "def getGaborFilterBank(ksize):\n",
    "    gaborFilters = []\n",
    "    _lambda = [0.06, 0.09, 0.13, 0.18, 0.25]\n",
    "    i = 0\n",
    "    for tta in np.arange(0, np.pi, np.pi / 8):\n",
    "        for lnda in _lambda:\n",
    "            kern = cv2.getGaborKernel((ksize, ksize), 4.0, tta, lnda, 0.5, 0, ktype=cv2.CV_32F)\n",
    "            #kern /= 1.5*kern.sum()\n",
    "            cv2.imshow('{}'.format(i), kernel)\n",
    "            cv2.waitKey()\n",
    "            i += 1\n",
    "            gaborFfilters.append(kern)\n",
    "    return gaborFfilters"
   ]
  },
  {
   "cell_type": "code",
   "execution_count": 43,
   "metadata": {},
   "outputs": [],
   "source": [
    "def getGabor(image_file, t):\n",
    "        kernel        = cv2.getGaborKernel((39, 39), 8.0, np.pi/t, 10.0, 0.5, 0, ktype=cv2.CV_32F)\n",
    "        kernel       /= 1.5* kernel.sum()\n",
    "        image         = cv2.imread(image_file, cv2.IMREAD_GRAYSCALE)\n",
    "        cv2.imshow('{}'.format(i), kernel)\n",
    "        cv2.waitKey(0)\n",
    "        filtered_img  = cv2.filter2D(image,    cv2.CV_8UC3, kernel)\n",
    "        heigth, width = kernel.shape \n",
    "    \n",
    "        cv2.imwrite(\"{}.jpg\".format(1), filtered_img)\n",
    "        # convert matrix to vector \n",
    "        descriptor = cv2.resize(filtered_img, (3*width, 3*heigth), interpolation=cv2.INTER_CUBIC)\n",
    "        return descriptor"
   ]
  },
  {
   "cell_type": "code",
   "execution_count": 44,
   "metadata": {},
   "outputs": [],
   "source": [
    "for i in range(1,9):\n",
    "    cv2.imshow('{}'.format(i), getGabor(\"gb.png\", i))\n",
    "    cv2.waitKey(0)"
   ]
  },
  {
   "cell_type": "code",
   "execution_count": 61,
   "metadata": {},
   "outputs": [
    {
     "data": {
      "image/png": "[encoded data removed]",
      "text/plain": [
       "<Figure size 432x288 with 1 Axes>"
      ]
     },
     "metadata": {
      "needs_background": "light"
     },
     "output_type": "display_data"
    }
   ],
   "source": [
    "#!/usr/bin/env python\n",
    "__author__ = \"Sreenivas Bhattiprolu\"\n",
    "__license__ = \"Feel free to copy, I appreciate if you acknowledge Python for Microscopists\"\n",
    "\n",
    "# https://www.youtube.com/watch?v=QEz4bG9P3Qs\n",
    "\n",
    "\n",
    "\"\"\"\n",
    "@author: Sreenivas Bhattiprolu\n",
    "What are features? \n",
    "\"\"\"\n",
    "\n",
    "##############################################\n",
    "#Gabor filter, multiple filters in one. Generate fiter bank. \n",
    "\"\"\"\n",
    "For image processing and computer vision, Gabor filters are generally \n",
    "used in texture analysis, edge detection, feature extraction, etc. \n",
    "Gabor filters are special classes of bandpass filters, i.e., they allow a certain \n",
    "‘band’ of frequencies and reject the others.\n",
    "ksize Size of the filter returned.\n",
    "sigma Standard deviation of the gaussian envelope.\n",
    "theta Orientation of the normal to the parallel stripes of a Gabor function.\n",
    "lambda Wavelength of the sinusoidal factor.\n",
    "gamma Spatial aspect ratio.\n",
    "psi Phase offset.\n",
    "ktype Type of filter coefficients. It can be CV_32F or CV_64F.\n",
    "indicates the type and range of values that each pixel in the Gabor kernel can hold.\n",
    "Basically float32 or float64\n",
    "\"\"\"\n",
    " \n",
    "import numpy as np\n",
    "import cv2\n",
    "import matplotlib.pyplot as plt\n",
    "\n",
    "ksize = 51 #Use size that makes sense to the image and fetaure size. Large may not be good. \n",
    "#On the synthetic image it is clear how ksize affects imgae (try 5 and 50)\n",
    "sigma = 2 #Large sigma on small features will fully miss the features. \n",
    "theta = 1*np.pi/4  #/4 shows horizontal 3/4 shows other horizontal. Try other contributions\n",
    "lamda =  5 #1*np.pi /8  #1/4 works best for angled. \n",
    "gamma=3  #Value of 1 defines spherical. Calue close to 0 has high aspect ratio\n",
    "#Value of 1, spherical may not be ideal as it picks up features from other regions.\n",
    "phi = 0  #Phase offset. I leave it to 0. \n",
    "\n",
    "\n",
    "kernel = cv2.getGaborKernel((ksize, ksize), sigma, theta, lamda, gamma, phi, ktype=cv2.CV_32F)\n",
    "\n",
    "plt.imshow(kernel)\n",
    "\n",
    "\n",
    "img = cv2.imread('logo.jpg')\n",
    "#img = cv2.imread('BSE_Image.jpg')\n",
    "img = cv2.cvtColor(img, cv2.COLOR_BGR2GRAY)\n",
    "fimg = cv2.filter2D(img, cv2.CV_8UC3, kernel)\n",
    "\n",
    "kernel_resized = cv2.resize(kernel, (400, 400))                    # Resize image\n",
    "cv2.imshow('Kernel', kernel_resized)\n",
    "cv2.imshow('Original Img.', img)\n",
    "cv2.imshow('Filtered', fimg)\n",
    "cv2.waitKey()\n",
    "cv2.destroyAllWindows()\n"
   ]
  },
  {
   "cell_type": "code",
   "execution_count": 50,
   "metadata": {},
   "outputs": [
    {
     "name": "stdout",
     "output_type": "stream",
     "text": [
      "Gabor1 : theta= 0.0 : sigma= 1 : lamda= 0.0 : gamma= 0.05\n",
      "Gabor2 : theta= 0.0 : sigma= 1 : lamda= 0.0 : gamma= 0.5\n",
      "Gabor3 : theta= 0.0 : sigma= 1 : lamda= 0.7853981633974483 : gamma= 0.05\n",
      "Gabor4 : theta= 0.0 : sigma= 1 : lamda= 0.7853981633974483 : gamma= 0.5\n",
      "Gabor5 : theta= 0.0 : sigma= 1 : lamda= 1.5707963267948966 : gamma= 0.05\n",
      "Gabor6 : theta= 0.0 : sigma= 1 : lamda= 1.5707963267948966 : gamma= 0.5\n",
      "Gabor7 : theta= 0.0 : sigma= 1 : lamda= 2.356194490192345 : gamma= 0.05\n",
      "Gabor8 : theta= 0.0 : sigma= 1 : lamda= 2.356194490192345 : gamma= 0.5\n",
      "Gabor9 : theta= 0.0 : sigma= 3 : lamda= 0.0 : gamma= 0.05\n",
      "Gabor10 : theta= 0.0 : sigma= 3 : lamda= 0.0 : gamma= 0.5\n",
      "Gabor11 : theta= 0.0 : sigma= 3 : lamda= 0.7853981633974483 : gamma= 0.05\n",
      "Gabor12 : theta= 0.0 : sigma= 3 : lamda= 0.7853981633974483 : gamma= 0.5\n",
      "Gabor13 : theta= 0.0 : sigma= 3 : lamda= 1.5707963267948966 : gamma= 0.05\n",
      "Gabor14 : theta= 0.0 : sigma= 3 : lamda= 1.5707963267948966 : gamma= 0.5\n",
      "Gabor15 : theta= 0.0 : sigma= 3 : lamda= 2.356194490192345 : gamma= 0.05\n",
      "Gabor16 : theta= 0.0 : sigma= 3 : lamda= 2.356194490192345 : gamma= 0.5\n",
      "Gabor17 : theta= 0.7853981633974483 : sigma= 1 : lamda= 0.0 : gamma= 0.05\n",
      "Gabor18 : theta= 0.7853981633974483 : sigma= 1 : lamda= 0.0 : gamma= 0.5\n",
      "Gabor19 : theta= 0.7853981633974483 : sigma= 1 : lamda= 0.7853981633974483 : gamma= 0.05\n",
      "Gabor20 : theta= 0.7853981633974483 : sigma= 1 : lamda= 0.7853981633974483 : gamma= 0.5\n",
      "Gabor21 : theta= 0.7853981633974483 : sigma= 1 : lamda= 1.5707963267948966 : gamma= 0.05\n",
      "Gabor22 : theta= 0.7853981633974483 : sigma= 1 : lamda= 1.5707963267948966 : gamma= 0.5\n",
      "Gabor23 : theta= 0.7853981633974483 : sigma= 1 : lamda= 2.356194490192345 : gamma= 0.05\n",
      "Gabor24 : theta= 0.7853981633974483 : sigma= 1 : lamda= 2.356194490192345 : gamma= 0.5\n",
      "Gabor25 : theta= 0.7853981633974483 : sigma= 3 : lamda= 0.0 : gamma= 0.05\n",
      "Gabor26 : theta= 0.7853981633974483 : sigma= 3 : lamda= 0.0 : gamma= 0.5\n",
      "Gabor27 : theta= 0.7853981633974483 : sigma= 3 : lamda= 0.7853981633974483 : gamma= 0.05\n",
      "Gabor28 : theta= 0.7853981633974483 : sigma= 3 : lamda= 0.7853981633974483 : gamma= 0.5\n",
      "Gabor29 : theta= 0.7853981633974483 : sigma= 3 : lamda= 1.5707963267948966 : gamma= 0.05\n",
      "Gabor30 : theta= 0.7853981633974483 : sigma= 3 : lamda= 1.5707963267948966 : gamma= 0.5\n",
      "Gabor31 : theta= 0.7853981633974483 : sigma= 3 : lamda= 2.356194490192345 : gamma= 0.05\n",
      "Gabor32 : theta= 0.7853981633974483 : sigma= 3 : lamda= 2.356194490192345 : gamma= 0.5\n",
      "   Original Image  Gabor1  Gabor2  Gabor3  Gabor4  Gabor5  Gabor6  Gabor7  \\\n",
      "0             113       0       0     255     255     191     103      77   \n",
      "1             112       0       0     255     255     191     104      77   \n",
      "2             111       0       0     255     255     192     105      78   \n",
      "3             118       0       0     255     255     195     107      79   \n",
      "4             122       0       0     255     255     199     109      80   \n",
      "\n",
      "   Gabor8  Gabor9  ...  Gabor23  Gabor24  Gabor25  Gabor26  Gabor27  Gabor28  \\\n",
      "0      42       0  ...      236       41        0        0      255      255   \n",
      "1      42       0  ...      232       41        0        0      255      255   \n",
      "2      42       0  ...      231       41        0        0      255      255   \n",
      "3      43       0  ...      234       43        0        0      255      255   \n",
      "4      44       0  ...      239       44        0        0      255      255   \n",
      "\n",
      "   Gabor29  Gabor30  Gabor31  Gabor32  \n",
      "0       57       30      109       66  \n",
      "1       57       30      100       60  \n",
      "2       56       29       94       55  \n",
      "3       55       29      102       61  \n",
      "4       59       31      106       64  \n",
      "\n",
      "[5 rows x 33 columns]\n"
     ]
    }
   ],
   "source": [
    "#!/usr/bin/env python\n",
    "__author__ = \"Sreenivas Bhattiprolu\"\n",
    "__license__ = \"Feel free to copy, I appreciate if you acknowledge Python for Microscopists\"\n",
    "\n",
    "# https://www.youtube.com/watch?v=BTbIS1mriuY\n",
    "\n",
    "\n",
    "\n",
    "import numpy as np\n",
    "import cv2\n",
    "import pandas as pd\n",
    " \n",
    "#img = cv2.imread('BSE_Image.jpg')\n",
    "img = cv2.imread('wood.jpg')\n",
    "img = cv2.cvtColor(img, cv2.COLOR_BGR2GRAY)  \n",
    "#Here, if you have multichannel image then extract the right channel instead of converting the image to grey. \n",
    "#For example, if DAPI contains nuclei information, extract the DAPI channel image first. \n",
    "\n",
    "#Multiple images can be used for training. For that, you need to concatenate the data\n",
    "\n",
    "#Save original image pixels into a data frame. This is our Feature #1.\n",
    "img2 = img.reshape(-1)\n",
    "df = pd.DataFrame()\n",
    "df['Original Image'] = img2\n",
    "\n",
    "#Generate Gabor features\n",
    "num = 1  #To count numbers up in order to give Gabor features a lable in the data frame\n",
    "kernels = []  #Create empty list to hold all kernels that we will generate in a loop\n",
    "for theta in range(2):   #Define number of thetas. Here only 2 theta values 0 and 1/4 . pi \n",
    "    theta = theta / 4. * np.pi\n",
    "    for sigma in (1, 3):  #Sigma with values of 1 and 3\n",
    "        for lamda in np.arange(0, np.pi, np.pi / 4):   #Range of wavelengths\n",
    "            for gamma in (0.05, 0.5):   #Gamma values of 0.05 and 0.5\n",
    "                           \n",
    "                gabor_label = 'Gabor' + str(num)  #Label Gabor columns as Gabor1, Gabor2, etc.\n",
    "#                print(gabor_label)\n",
    "                ksize=9\n",
    "                kernel = cv2.getGaborKernel((ksize, ksize), sigma, theta, lamda, gamma, 0, ktype=cv2.CV_32F)    \n",
    "                kernels.append(kernel)\n",
    "                #Now filter the image and add values to a new column \n",
    "                fimg = cv2.filter2D(img2, cv2.CV_8UC3, kernel)\n",
    "                filtered_img = fimg.reshape(-1)\n",
    "                df[gabor_label] = filtered_img  #Labels columns as Gabor1, Gabor2, etc.\n",
    "                print(gabor_label, ': theta=', theta, ': sigma=', sigma, ': lamda=', lamda, ': gamma=', gamma)\n",
    "                num += 1  #Increment for gabor column label\n",
    "                \n",
    "print(df.head())\n",
    "\n",
    "df.to_csv(\"Gabor.csv\")"
   ]
  },
  {
   "cell_type": "code",
   "execution_count": 3,
   "metadata": {},
   "outputs": [
    {
     "name": "stdout",
     "output_type": "stream",
     "text": [
      "Help on built-in function getGaborKernel:\n",
      "\n",
      "getGaborKernel(...)\n",
      "    getGaborKernel(ksize, sigma, theta, lambd, gamma[, psi[, ktype]]) -> retval\n",
      "    .   @brief Returns Gabor filter coefficients.\n",
      "    .   \n",
      "    .   For more details about gabor filter equations and parameters, see: [Gabor\n",
      "    .   Filter](http://en.wikipedia.org/wiki/Gabor_filter).\n",
      "    .   \n",
      "    .   @param ksize Size of the filter returned.\n",
      "    .   @param sigma Standard deviation of the gaussian envelope.\n",
      "    .   @param theta Orientation of the normal to the parallel stripes of a Gabor function.\n",
      "    .   @param lambd Wavelength of the sinusoidal factor.\n",
      "    .   @param gamma Spatial aspect ratio.\n",
      "    .   @param psi Phase offset.\n",
      "    .   @param ktype Type of filter coefficients. It can be CV_32F or CV_64F .\n",
      "\n"
     ]
    }
   ],
   "source": [
    "help(cv2.getGaborKernel)"
   ]
  },
  {
   "cell_type": "code",
   "execution_count": 22,
   "metadata": {},
   "outputs": [
    {
     "data": {
      "text/plain": [
       "4913"
      ]
     },
     "execution_count": 22,
     "metadata": {},
     "output_type": "execute_result"
    }
   ],
   "source": [
    "17*17*17"
   ]
  },
  {
   "cell_type": "code",
   "execution_count": 23,
   "metadata": {},
   "outputs": [
    {
     "data": {
      "text/plain": [
       "676"
      ]
     },
     "execution_count": 23,
     "metadata": {},
     "output_type": "execute_result"
    }
   ],
   "source": [
    "26*26"
   ]
  },
  {
   "cell_type": "code",
   "execution_count": null,
   "metadata": {},
   "outputs": [],
   "source": [
    "#signature = open(index, 'r')\n",
    "            '''for line in signature:\n",
    "                line = line.replace(\"[\", \"\").replace(\"]\", \"\").replace(\"(\", \"\").replace(\")\", \"\").split(\",\")\n",
    "                filename = line[0]\n",
    "                avgs = [float(x) for x in line[1:]]\n",
    "                # TODO: Add to M tree\n",
    "                self.addObjectsToTree([filename, avgs])\n",
    "                print(\".\", end= \" \")'''\n",
    "\n",
    "# Save to desk\n",
    "            '''\n",
    "            indexes = open('indexBase.txt', 'w')\n",
    "            for i in range(len(self.indexBase)):\n",
    "                indexes.write(str(self.indexBase[i]))\n",
    "                indexes.write(\"\\n\")\n",
    "            indexes.close()\n",
    "            '''"
   ]
  }
 ],
 "metadata": {
  "kernelspec": {
   "display_name": "Python 3",
   "language": "python",
   "name": "python3"
  },
  "language_info": {
   "codemirror_mode": {
    "name": "ipython",
    "version": 3
   },
   "file_extension": ".py",
   "mimetype": "text/x-python",
   "name": "python",
   "nbconvert_exporter": "python",
   "pygments_lexer": "ipython3",
   "version": "3.7.4"
  }
 },
 "nbformat": 4,
 "nbformat_minor": 4
}
