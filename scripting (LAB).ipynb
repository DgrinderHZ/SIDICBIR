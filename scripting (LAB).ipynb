{
 "cells": [
  {
   "cell_type": "code",
   "execution_count": 12,
   "metadata": {},
   "outputs": [],
   "source": [
    "import cv2\n",
    "from PIL import Image, ImageTk\n",
    "from math import sqrt\n",
    "import math \n",
    "import numpy as np"
   ]
  },
  {
   "cell_type": "markdown",
   "metadata": {},
   "source": [
    "# Use this resizing to use small images "
   ]
  },
  {
   "cell_type": "code",
   "execution_count": 2,
   "metadata": {},
   "outputs": [
    {
     "name": "stdout",
     "output_type": "stream",
     "text": [
      "(360, 360)\n",
      "(1100, 1100)\n"
     ]
    }
   ],
   "source": [
    "im = Image.open(\"logo.jpg\")\n",
    "print(im.size)\n",
    "resized = im.resize((1100, 1100), Image.ANTIALIAS)\n",
    "print(resized.size)\n",
    "#print(list(resized.getdata()))\n",
    "resized.show()"
   ]
  },
  {
   "cell_type": "code",
   "execution_count": 5,
   "metadata": {},
   "outputs": [
    {
     "name": "stdout",
     "output_type": "stream",
     "text": [
      "(360, 360, 3)\n",
      "(24, 24, 3)\n"
     ]
    },
    {
     "data": {
      "text/plain": [
       "-1"
      ]
     },
     "execution_count": 5,
     "metadata": {},
     "output_type": "execute_result"
    }
   ],
   "source": [
    "im = cv2.imread(\"logo.jpg\")\n",
    "print(im.shape)\n",
    "rs = cv2.resize(im, (24,24))\n",
    "print(rs.shape)\n",
    "cv2.imshow('original',im)\n",
    "cv2.waitKey(0)\n",
    "cv2.imshow('resized',rs)\n",
    "cv2.waitKey(0)"
   ]
  },
  {
   "cell_type": "code",
   "execution_count": 10,
   "metadata": {},
   "outputs": [
    {
     "name": "stdout",
     "output_type": "stream",
     "text": [
      "[[[ 12.   0.]\n",
      "  [  1.  15.]]\n",
      "\n",
      " [[ 39.   0.]\n",
      "  [  6. 503.]]]\n",
      "[ 12.   0.   1.  15.  39.   0.   6. 503.]\n",
      "[[[ 12.   0.]\n",
      "  [  1.  15.]]\n",
      "\n",
      " [[ 39.   0.]\n",
      "  [  6. 503.]]]\n"
     ]
    },
    {
     "data": {
      "text/plain": [
       "array([ 12.,   0.,   1.,  15.,  39.,   0.,   6., 503.], dtype=float32)"
      ]
     },
     "execution_count": 10,
     "metadata": {},
     "output_type": "execute_result"
    }
   ],
   "source": [
    "\n",
    "def getHist(imgPix):\n",
    "    \"\"\"\n",
    "    Return bgr Histograms\n",
    "    \"\"\"\n",
    "    imgPix = np.array(imgPix)\n",
    "    rbgHist= cv2.calcHist(images=[imgPix], \n",
    "                        channels=[0, 1, 2], \n",
    "                        mask=None, \n",
    "                        histSize=[2, 2, 2], \n",
    "                        ranges=[0, 256, 0, 256, 0, 256])\n",
    "\n",
    "    return rbgHist\n",
    "rs = cv2.resize(im, (24,24))\n",
    "h = getHist(rs)\n",
    "v = h.flatten()\n",
    "print(h)\n",
    "print(v)\n",
    "print(np.reshape(v, (2,2,2)))\n",
    "np.array(list(map(np.float32, v)))\n"
   ]
  },
  {
   "cell_type": "markdown",
   "metadata": {},
   "source": [
    "# Color Descriptors"
   ]
  },
  {
   "cell_type": "code",
   "execution_count": 153,
   "metadata": {},
   "outputs": [],
   "source": [
    "\n",
    "def getAvgs(imgPix):\n",
    "        \"\"\"\n",
    "        la moyenne, moment d’ordre un.\n",
    "        :return: (avgR, avgG, avgB)\n",
    "        \"\"\"\n",
    "        imgPix = np.array(imgPix)\n",
    "        height, width, channels = imgPix.shape\n",
    "        sz = height*width\n",
    "        t = [0. for _ in range(3)]\n",
    "        for i in range(len(imgPix)):\n",
    "            for j in range(len(imgPix[0])):\n",
    "                t[0] += imgPix[i][j][0]\n",
    "                t[1] += imgPix[i][j][1]\n",
    "                t[2] += imgPix[i][j][2]\n",
    "        t = [y/sz for y in t]\n",
    "        print('Mean:', imgPix.shape, imgPix.size)\n",
    "        print(t, \"equals\")\n",
    "        \n",
    "        return list(imgPix.mean(axis=1).mean(axis=0))\n",
    "    \n",
    "def getSTDs(imgPix):\n",
    "        \"\"\"\n",
    "        L'écart type, moment d’ordre deux.\n",
    "        :return:\n",
    "        \"\"\"\n",
    "        imgPix = np.array(imgPix)\n",
    "        height, width, channels = imgPix.shape\n",
    "        sz = height*width\n",
    "        \n",
    "        mean = getAvgs(imgPix)\n",
    "        v = [0. for _ in range(3)]\n",
    "        for i in range(len(imgPix)):\n",
    "            for j in range(len(imgPix[0])):\n",
    "                v[0] += (imgPix[i][j][0] - mean[0])**2\n",
    "                v[1] += (imgPix[i][j][1] - mean[1])**2\n",
    "                v[2] += (imgPix[i][j][2] - mean[2])**2\n",
    "        v = [sqrt(y/sz) for y in v]\n",
    "        print('STD:')\n",
    "        print(v, \"equals\")\n",
    "        return list(imgPix.std(axis=1).std(axis=0))\n",
    "    \n",
    "def getMoments(imgPix):\n",
    "        \"\"\"\n",
    "        moment d’ordre trois.\n",
    "        :return:\n",
    "        \"\"\"\n",
    "        imgPix = np.array(imgPix)\n",
    "        height, width, channels = imgPix.shape\n",
    "        sz = height*width\n",
    "        \n",
    "        mean = getAvgs(imgPix)\n",
    "        v = [0. for _ in range(3)]\n",
    "        for i in range(len(imgPix)):\n",
    "            for j in range(len(imgPix[0])):\n",
    "                v[0] += (imgPix[i][j][0] - mean[0])**3\n",
    "                v[1] += (imgPix[i][j][1] - mean[1])**3\n",
    "                v[2] += (imgPix[i][j][2] - mean[2])**3\n",
    "        v = [ abs((y/sz))**(1/3) for y in v]\n",
    "        features = []\n",
    "        features.extend(mean)\n",
    "        features.extend(getSTDs(imgPix))\n",
    "        features.extend(v)\n",
    "        return features"
   ]
  },
  {
   "cell_type": "code",
   "execution_count": 154,
   "metadata": {},
   "outputs": [
    {
     "name": "stdout",
     "output_type": "stream",
     "text": [
      "Mean: (24, 24, 3) 1728\n",
      "[235.69618055555554, 238.15104166666666, 229.22048611111111] equals\n",
      "[235.69618055555551, 238.1510416666666, 229.22048611111111]\n"
     ]
    }
   ],
   "source": [
    "print(getAvgs(rs))"
   ]
  },
  {
   "cell_type": "code",
   "execution_count": 155,
   "metadata": {},
   "outputs": [
    {
     "name": "stdout",
     "output_type": "stream",
     "text": [
      "Mean: (24, 24, 3) 1728\n",
      "[235.69618055555554, 238.15104166666666, 229.22048611111111] equals\n",
      "STD:\n",
      "[45.77348045746132, 42.14232374114895, 66.36832983674661] equals\n",
      "[25.119248212652426, 25.890382902339375, 42.49990600721883]\n"
     ]
    }
   ],
   "source": [
    "print(getSTDs(rs))"
   ]
  },
  {
   "cell_type": "code",
   "execution_count": 156,
   "metadata": {},
   "outputs": [
    {
     "name": "stdout",
     "output_type": "stream",
     "text": [
      "Mean: (24, 24, 3) 1728\n",
      "[235.69618055555554, 238.15104166666666, 229.22048611111111] equals\n",
      "Mean: (24, 24, 3) 1728\n",
      "[235.69618055555554, 238.15104166666666, 229.22048611111111] equals\n",
      "STD:\n",
      "[45.77348045746132, 42.14232374114895, 66.36832983674661] equals\n",
      "[235.69618055555551, 238.1510416666666, 229.22048611111111, 25.119248212652426, 25.890382902339375, 42.49990600721883, 61.81698750779069, 56.532930354293505, 90.90555695466534]\n"
     ]
    }
   ],
   "source": [
    "print(getMoments(rs))"
   ]
  },
  {
   "cell_type": "markdown",
   "metadata": {},
   "source": [
    "# Texture "
   ]
  },
  {
   "cell_type": "code",
   "execution_count": 29,
   "metadata": {},
   "outputs": [],
   "source": [
    "def getGabor(image_file):\n",
    "        kernel        = cv2.getGaborKernel((21, 21), 8.0, np.pi/4, 10.0, 0.5, 0, ktype=cv2.CV_32F)\n",
    "        kernel       /= math.sqrt((kernel * kernel).sum())\n",
    "        image         = cv2.imread(image_file, cv2.IMREAD_GRAYSCALE)\n",
    "        filtered_img  = cv2.filter2D(image,    cv2.CV_8UC3, kernel)\n",
    "        heigth, width = kernel.shape \n",
    "    \n",
    "        cv2.imwrite(\"{}.jpg\".format(1), filtered_img)\n",
    "        # convert matrix to vector \n",
    "        descriptor = cv2.resize(filtered_img, (3*width, 3*heigth), interpolation=cv2.INTER_CUBIC)\n",
    "        return np.hstack(descriptor)"
   ]
  },
  {
   "cell_type": "code",
   "execution_count": 31,
   "metadata": {},
   "outputs": [
    {
     "data": {
      "text/plain": [
       "array([201, 201, 201, ..., 201, 201, 201], dtype=uint8)"
      ]
     },
     "execution_count": 31,
     "metadata": {},
     "output_type": "execute_result"
    }
   ],
   "source": [
    "getGabor(\"logo.jpg\")"
   ]
  },
  {
   "cell_type": "code",
   "execution_count": 13,
   "metadata": {},
   "outputs": [
    {
     "name": "stdout",
     "output_type": "stream",
     "text": [
      "Help on built-in function getGaborKernel:\n",
      "\n",
      "getGaborKernel(...)\n",
      "    getGaborKernel(ksize, sigma, theta, lambd, gamma[, psi[, ktype]]) -> retval\n",
      "    .   @brief Returns Gabor filter coefficients.\n",
      "    .   \n",
      "    .   For more details about gabor filter equations and parameters, see: [Gabor\n",
      "    .   Filter](http://en.wikipedia.org/wiki/Gabor_filter).\n",
      "    .   \n",
      "    .   @param ksize Size of the filter returned.\n",
      "    .   @param sigma Standard deviation of the gaussian envelope.\n",
      "    .   @param theta Orientation of the normal to the parallel stripes of a Gabor function.\n",
      "    .   @param lambd Wavelength of the sinusoidal factor.\n",
      "    .   @param gamma Spatial aspect ratio.\n",
      "    .   @param psi Phase offset.\n",
      "    .   @param ktype Type of filter coefficients. It can be CV_32F or CV_64F .\n",
      "\n"
     ]
    }
   ],
   "source": [
    "help(cv2.getGaborKernel)"
   ]
  },
  {
   "cell_type": "code",
   "execution_count": 22,
   "metadata": {},
   "outputs": [
    {
     "data": {
      "text/plain": [
       "4913"
      ]
     },
     "execution_count": 22,
     "metadata": {},
     "output_type": "execute_result"
    }
   ],
   "source": [
    "17*17*17"
   ]
  },
  {
   "cell_type": "code",
   "execution_count": 23,
   "metadata": {},
   "outputs": [
    {
     "data": {
      "text/plain": [
       "676"
      ]
     },
     "execution_count": 23,
     "metadata": {},
     "output_type": "execute_result"
    }
   ],
   "source": [
    "26*26"
   ]
  },
  {
   "cell_type": "code",
   "execution_count": null,
   "metadata": {},
   "outputs": [],
   "source": [
    "#signature = open(index, 'r')\n",
    "            '''for line in signature:\n",
    "                line = line.replace(\"[\", \"\").replace(\"]\", \"\").replace(\"(\", \"\").replace(\")\", \"\").split(\",\")\n",
    "                filename = line[0]\n",
    "                avgs = [float(x) for x in line[1:]]\n",
    "                # TODO: Add to M tree\n",
    "                self.addObjectsToTree([filename, avgs])\n",
    "                print(\".\", end= \" \")'''\n",
    "\n",
    "# Save to desk\n",
    "            '''\n",
    "            indexes = open('indexBase.txt', 'w')\n",
    "            for i in range(len(self.indexBase)):\n",
    "                indexes.write(str(self.indexBase[i]))\n",
    "                indexes.write(\"\\n\")\n",
    "            indexes.close()\n",
    "            '''"
   ]
  }
 ],
 "metadata": {
  "kernelspec": {
   "display_name": "Python 3",
   "language": "python",
   "name": "python3"
  },
  "language_info": {
   "codemirror_mode": {
    "name": "ipython",
    "version": 3
   },
   "file_extension": ".py",
   "mimetype": "text/x-python",
   "name": "python",
   "nbconvert_exporter": "python",
   "pygments_lexer": "ipython3",
   "version": "3.7.4"
  }
 },
 "nbformat": 4,
 "nbformat_minor": 4
}
